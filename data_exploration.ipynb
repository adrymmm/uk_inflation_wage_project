{
 "cells": [
  {
   "metadata": {},
   "cell_type": "markdown",
   "source": [
    "Average Weekly Earnings: We extract [Weekly Earnings (KAB9)] of the [Whole Economy]\n",
    "    Observations start: January 2000\n",
    "\n",
    "CPIH Index: Base year is 2015 (2015=100)\n",
    "    Obsevations start: 2000 JAN\n",
    "\n",
    "Productivity: [UK Whole Economy: Output per hour worked SA: Index 2022 = 100] -- this is the column we extract from the dataset since it is in index form\n",
    "    Observations start: Q1 2000"
   ],
   "id": "bf82b0e25801dbab",
   "attachments": {
    "9aaec80f-0794-4c07-b902-6b1886f57c23.png": {
     "image/png": "[encoded data removed]"
    }
   }
  },
  {
   "metadata": {
    "ExecuteTime": {
     "end_time": "2025-10-27T19:07:23.254731Z",
     "start_time": "2025-10-27T19:07:22.301918Z"
    }
   },
   "cell_type": "code",
   "source": "import pandas as pd",
   "id": "7bb7813543c9fbb3",
   "outputs": [],
   "execution_count": 3
  },
  {
   "metadata": {
    "ExecuteTime": {
     "end_time": "2025-10-27T20:15:05.939230Z",
     "start_time": "2025-10-27T20:15:05.020625Z"
    }
   },
   "cell_type": "code",
   "source": [
    "xls = pd.ExcelFile(\"data/raw/awe.xls\")\n",
    "print(xls.sheet_names)\n",
    "\n",
    "#Skip the first 8 rows which contain title and text\n",
    "awe = pd.read_excel(\"data/raw/awe.xls\", sheet_name = \"1. AWE Total Pay\", skiprows=9, header=None)\n",
    "#Skip the first 8 rows which contain title and text\n",
    "cpi = pd.read_csv(\"data/raw/cpi_index.csv\", skiprows=8, header=None)\n",
    "prod = pd.read_excel(\"data/raw/prdy.xlsx\")\n",
    "\n",
    "# Filtering columns of Average Weekly Earnings -- the dataset starts from January 2000\n",
    "awe = awe[[0,1]]\n",
    "awe.columns = ['Date', 'WeeklyEarn']\n",
    "\n",
    "#Drops rows where Weekly Earnings column is empty -- used for some empty text cells\n",
    "awe.dropna(subset=['WeeklyEarn'], inplace=True)\n",
    "\n",
    "# Filtering columns of CPIH dataset -- starting from January 2000\n",
    "cpi = cpi[[0,1]]\n",
    "cpi.columns = ['Date', 'CPIH']\n",
    "\n",
    "start_idx = cpi.loc[cpi['Date'].str.startswith('2000 JAN')].index[0]\n",
    "cpi = cpi.loc[start_idx:].reset_index(drop=True)\n",
    "\n",
    "\n",
    "# Filtering columns of productivity dataset - starting from Q1 of 2000\n",
    "prod = prod[['Title', 'UK Whole Economy: Output per hour worked SA: Index 2022 = 100']]\n",
    "prod = prod.rename(columns={'Title': 'Date',\n",
    "                            'UK Whole Economy: Output per hour worked SA: Index 2022 = 100': 'OutputHR'})\n",
    "\n",
    "start_idx = prod.loc[prod['Date'].str.startswith('2000 Q1')].index[0]\n",
    "prod = prod.loc[start_idx:].reset_index(drop=True)"
   ],
   "id": "3be70d6ba007c67a",
   "outputs": [
    {
     "name": "stdout",
     "output_type": "stream",
     "text": [
      "['Introduction', '1. AWE Total Pay', '2. AWE Bonus Pay', '3. AWE Regular Pay', '4. AWE Total Pay Index', '5. AWE Regular Pay Index', '6. Real AWE', 'Sampling Variability']\n"
     ]
    },
    {
     "name": "stderr",
     "output_type": "stream",
     "text": [
      "C:\\Users\\andre\\PycharmProjects\\uk_inflation_wage_project\\.venv\\Lib\\site-packages\\openpyxl\\styles\\stylesheet.py:237: UserWarning: Workbook contains no default style, apply openpyxl's default\n",
      "  warn(\"Workbook contains no default style, apply openpyxl's default\")\n"
     ]
    }
   ],
   "execution_count": 65
  },
  {
   "metadata": {
    "ExecuteTime": {
     "end_time": "2025-10-27T20:19:37.716793Z",
     "start_time": "2025-10-27T20:19:37.690335Z"
    }
   },
   "cell_type": "code",
   "source": [
    "# We expect 1-to-1 for awe and cpi, call shape to confirm\n",
    "print(cpi.shape)\n",
    "print(awe.shape)\n",
    "\n",
    "# We call tail to see why there is one extra observation -- CPI has a September observation\n",
    "print(cpi.tail())\n",
    "print(awe.tail())\n",
    "\n",
    "# Dropping last observation\n",
    "cpi = cpi[0:-1]\n",
    "\n",
    "# Converting both datasets to datetime\n",
    "cpi['Date'] = pd.to_datetime(cpi['Date'], format = '%Y %b')\n",
    "awe['Date'] = pd.to_datetime(awe['Date'])\n",
    "\n",
    "# Converting columns to Month objects\n",
    "cpi['Month'] = cpi['Date'].dt.to_period('M')\n",
    "awe['Month'] = awe['Date'].dt.to_period('M')\n",
    "\n",
    "# Merging on month\n",
    "ts = pd.merge(cpi, awe, how='inner', on=['Month'])\n",
    "\n",
    "# Dropping unused date columns and setting index to Month\n",
    "ts.drop(columns=['Date_x', 'Date_y'], inplace=True)\n",
    "ts.set_index('Month', inplace=True)\n",
    "\n",
    "ts.head()\n"
   ],
   "id": "c6a79c1b795fd136",
   "outputs": [
    {
     "name": "stdout",
     "output_type": "stream",
     "text": [
      "(306, 3)\n",
      "(308, 3)\n",
      "          Date   CPIH    Month\n",
      "301 2025-02-01  135.6  2025-02\n",
      "302 2025-03-01  136.1  2025-03\n",
      "303 2025-04-01  137.7  2025-04\n",
      "304 2025-05-01  138.0  2025-05\n",
      "305 2025-06-01  138.4  2025-06\n",
      "          Date  WeeklyEarn    Month\n",
      "303 2025-04-01  719.763788  2025-04\n",
      "304 2025-05-01  722.569363  2025-05\n",
      "305 2025-06-01  724.738409  2025-06\n",
      "306 2025-07-01  728.291840  2025-07\n",
      "307 2025-08-01  732.815546  2025-08\n"
     ]
    },
    {
     "data": {
      "text/plain": [
       "         CPIH  WeeklyEarn\n",
       "Month                    \n",
       "2000-01  72.6  304.722925\n",
       "2000-02  72.8  299.818577\n",
       "2000-03  73.0  311.418715\n",
       "2000-04  73.3  308.748756\n",
       "2000-05  73.5  311.178774"
      ],
      "text/html": [
       "<div>\n",
       "<style scoped>\n",
       "    .dataframe tbody tr th:only-of-type {\n",
       "        vertical-align: middle;\n",
       "    }\n",
       "\n",
       "    .dataframe tbody tr th {\n",
       "        vertical-align: top;\n",
       "    }\n",
       "\n",
       "    .dataframe thead th {\n",
       "        text-align: right;\n",
       "    }\n",
       "</style>\n",
       "<table border=\"1\" class=\"dataframe\">\n",
       "  <thead>\n",
       "    <tr style=\"text-align: right;\">\n",
       "      <th></th>\n",
       "      <th>CPIH</th>\n",
       "      <th>WeeklyEarn</th>\n",
       "    </tr>\n",
       "    <tr>\n",
       "      <th>Month</th>\n",
       "      <th></th>\n",
       "      <th></th>\n",
       "    </tr>\n",
       "  </thead>\n",
       "  <tbody>\n",
       "    <tr>\n",
       "      <th>2000-01</th>\n",
       "      <td>72.6</td>\n",
       "      <td>304.722925</td>\n",
       "    </tr>\n",
       "    <tr>\n",
       "      <th>2000-02</th>\n",
       "      <td>72.8</td>\n",
       "      <td>299.818577</td>\n",
       "    </tr>\n",
       "    <tr>\n",
       "      <th>2000-03</th>\n",
       "      <td>73.0</td>\n",
       "      <td>311.418715</td>\n",
       "    </tr>\n",
       "    <tr>\n",
       "      <th>2000-04</th>\n",
       "      <td>73.3</td>\n",
       "      <td>308.748756</td>\n",
       "    </tr>\n",
       "    <tr>\n",
       "      <th>2000-05</th>\n",
       "      <td>73.5</td>\n",
       "      <td>311.178774</td>\n",
       "    </tr>\n",
       "  </tbody>\n",
       "</table>\n",
       "</div>"
      ]
     },
     "execution_count": 69,
     "metadata": {},
     "output_type": "execute_result"
    }
   ],
   "execution_count": 69
  },
  {
   "metadata": {},
   "cell_type": "code",
   "outputs": [],
   "execution_count": null,
   "source": "",
   "id": "695aeec747769bc9"
  }
 ],
 "metadata": {
  "kernelspec": {
   "display_name": "Python 3",
   "language": "python",
   "name": "python3"
  },
  "language_info": {
   "codemirror_mode": {
    "name": "ipython",
    "version": 2
   },
   "file_extension": ".py",
   "mimetype": "text/x-python",
   "name": "python",
   "nbconvert_exporter": "python",
   "pygments_lexer": "ipython2",
   "version": "2.7.6"
  }
 },
 "nbformat": 4,
 "nbformat_minor": 5
}
